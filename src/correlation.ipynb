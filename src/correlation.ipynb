{
 "cells": [
  {
   "cell_type": "code",
   "execution_count": 1,
   "id": "072e556e",
   "metadata": {},
   "outputs": [],
   "source": [
    "import numpy as np\n",
    "import matplotlib.pyplot as plt\n",
    "import pandas as pd"
   ]
  },
  {
   "cell_type": "code",
   "execution_count": 2,
   "id": "376e5fd6",
   "metadata": {},
   "outputs": [],
   "source": [
    "sales_rel = {\n",
    "    'calls': np.array([96, 40, 104, 128, 164, 76, 72, 80, 36, 84, 180, 132, 120, 44, 84]),\n",
    "    'sales': np.array([41, 41, 51, 60, 61, 29, 39, 50, 28, 43, 70, 56, 45, 31, 30]),\n",
    "    'names': [\n",
    "        'Brian Virost', 'Carlos Ramírez', 'Carol Saia', 'Greg Fish',\n",
    "        'Jeff Hall', 'Mark Reynolds', 'Meryl Rumsey', 'Mike Kiel',\n",
    "        'Ray Snarsky', 'Rich Niles', 'Ron Broderick', 'Sal Spina',\n",
    "        'Soni Jones', 'Susan Welch', 'Tom Keller'\n",
    "    ]\n",
    "}"
   ]
  },
  {
   "cell_type": "code",
   "execution_count": 3,
   "id": "5df0e018",
   "metadata": {},
   "outputs": [
    {
     "data": {
      "image/png": "[encoded data removed]",
      "text/plain": [
       "<Figure size 640x480 with 1 Axes>"
      ]
     },
     "metadata": {},
     "output_type": "display_data"
    }
   ],
   "source": [
    "plt.scatter(sales_rel['calls'], sales_rel['sales'])\n",
    "\n",
    "plt.title('Sales Calls vs Sales')\n",
    "plt.xlabel('Number of Sales Calls')\n",
    "plt.ylabel('Number of Sales')\n",
    "plt.grid(True)\n",
    "\n",
    "plt.show()\n"
   ]
  },
  {
   "cell_type": "code",
   "execution_count": 4,
   "id": "0a7b8121",
   "metadata": {},
   "outputs": [
    {
     "name": "stdout",
     "output_type": "stream",
     "text": [
      "Mean number of calls: 96.0\n",
      "Mean number of sales: 45.0\n"
     ]
    }
   ],
   "source": [
    "calls_mean = np.mean(sales_rel['calls'])\n",
    "sales_mean = np.mean(sales_rel['sales'])\n",
    "\n",
    "print(f\"Mean number of calls: {calls_mean}\")\n",
    "print(f\"Mean number of sales: {sales_mean}\")"
   ]
  },
  {
   "cell_type": "code",
   "execution_count": 5,
   "id": "e63eb292",
   "metadata": {},
   "outputs": [
    {
     "name": "stdout",
     "output_type": "stream",
     "text": [
      "Standard deviation of calls: 42.7617987059879\n",
      "Standard deviation of sales: 12.889641466808033\n"
     ]
    }
   ],
   "source": [
    "calls_std = pd.Series(sales_rel['calls']).std()\n",
    "sales_std = pd.Series(sales_rel['sales']).std()\n",
    "\n",
    "print(f\"Standard deviation of calls: {calls_std}\")\n",
    "print(f\"Standard deviation of sales: {sales_std}\")"
   ]
  },
  {
   "cell_type": "code",
   "execution_count": 6,
   "id": "67a46474",
   "metadata": {},
   "outputs": [
    {
     "name": "stdout",
     "output_type": "stream",
     "text": [
      "Correlation coefficient: 0.8646317910740129\n"
     ]
    }
   ],
   "source": [
    "r = np.corrcoef(sales_rel['calls'], sales_rel['sales'])[0, 1]\n",
    "print(f\"Correlation coefficient: {r}\")"
   ]
  },
  {
   "cell_type": "code",
   "execution_count": 7,
   "id": "63028007",
   "metadata": {},
   "outputs": [
    {
     "name": "stdout",
     "output_type": "stream",
     "text": [
      "Correlation coefficient using pandas: 0.8646317910740129\n"
     ]
    }
   ],
   "source": [
    "r_pd = pd.Series(sales_rel['calls']).corr(pd.Series(sales_rel['sales']))\n",
    "print(f\"Correlation coefficient using pandas: {r_pd}\")"
   ]
  },
  {
   "cell_type": "code",
   "execution_count": 8,
   "id": "53e10196",
   "metadata": {},
   "outputs": [
    {
     "name": "stdout",
     "output_type": "stream",
     "text": [
      "Deviation of calls: [  0. -56.   8.  32.  68. -20. -24. -16. -60. -12.  84.  36.  24. -52.\n",
      " -12.]\n",
      "Deviation of sales: [ -4.  -4.   6.  15.  16. -16.  -6.   5. -17.  -2.  25.  11.   0. -14.\n",
      " -15.]\n",
      "Product of deviations: [  -0.  224.   48.  480. 1088.  320.  144.  -80. 1020.   24. 2100.  396.\n",
      "    0.  728.  180.]\n"
     ]
    }
   ],
   "source": [
    "dev_calls = sales_rel['calls'] - calls_mean\n",
    "dev_sales = sales_rel['sales'] - sales_mean\n",
    "\n",
    "merged_dev_calls_sales = dev_calls * dev_sales\n",
    "print(f\"Deviation of calls: {dev_calls}\")\n",
    "print(f\"Deviation of sales: {dev_sales}\")\n",
    "print(f\"Product of deviations: {merged_dev_calls_sales}\")"
   ]
  },
  {
   "cell_type": "code",
   "execution_count": 9,
   "id": "057af24e",
   "metadata": {},
   "outputs": [
    {
     "name": "stdout",
     "output_type": "stream",
     "text": [
      "Sum of product of deviations: 6672.0\n"
     ]
    }
   ],
   "source": [
    "merged_sum = merged_dev_calls_sales.sum()\n",
    "print(f\"Sum of product of deviations: {merged_sum}\")"
   ]
  },
  {
   "cell_type": "code",
   "execution_count": 11,
   "id": "db5b558d",
   "metadata": {},
   "outputs": [
    {
     "name": "stdout",
     "output_type": "stream",
     "text": [
      "Correlation coefficient calculated manually: 0.8646317910740129\n"
     ]
    }
   ],
   "source": [
    "r_raw = merged_sum / ((len(sales_rel['calls']) - 1) * calls_std * sales_std)\n",
    "print(f\"Correlation coefficient calculated manually: {r_raw}\")"
   ]
  },
  {
   "cell_type": "code",
   "execution_count": null,
   "id": "9859fe04",
   "metadata": {},
   "outputs": [],
   "source": []
  }
 ],
 "metadata": {
  "kernelspec": {
   "display_name": "Python 3 (ipykernel)",
   "language": "python",
   "name": "python3"
  },
  "language_info": {
   "codemirror_mode": {
    "name": "ipython",
    "version": 3
   },
   "file_extension": ".py",
   "mimetype": "text/x-python",
   "name": "python",
   "nbconvert_exporter": "python",
   "pygments_lexer": "ipython3",
   "version": "3.12.11"
  }
 },
 "nbformat": 4,
 "nbformat_minor": 5
}
