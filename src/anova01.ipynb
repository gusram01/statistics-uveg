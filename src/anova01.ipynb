{
 "cells": [
  {
   "cell_type": "code",
   "execution_count": 2,
   "id": "9518e583",
   "metadata": {},
   "outputs": [],
   "source": [
    "import numpy as np\n",
    "import matplotlib.pyplot as plt\n",
    "import scipy.stats as stats\n",
    "\n"
   ]
  },
  {
   "cell_type": "code",
   "execution_count": 7,
   "id": "2bcb9cfa",
   "metadata": {},
   "outputs": [
    {
     "name": "stdout",
     "output_type": "stream",
     "text": [
      "Wolfe: [55, 54, 59, 56]\n",
      "White: [66, 76, 67, 71]\n",
      "Korosa: [47, 51, 46, 48]\n"
     ]
    }
   ],
   "source": [
    "wolfe = [55, 54, 59, 56]\n",
    "white = [66, 76, 67, 71]\n",
    "korosa = [47, 51, 46, 48]\n",
    "\n",
    "# You can print them to verify\n",
    "print(\"Wolfe:\", wolfe)\n",
    "print(\"White:\", white)\n",
    "print(\"Korosa:\", korosa)"
   ]
  },
  {
   "cell_type": "code",
   "execution_count": 8,
   "id": "446acb36",
   "metadata": {},
   "outputs": [
    {
     "name": "stdout",
     "output_type": "stream",
     "text": [
      "Total: [55, 54, 59, 56, 66, 76, 67, 71, 47, 51, 46, 48]\n"
     ]
    }
   ],
   "source": [
    "merged_variables = wolfe + white + korosa\n",
    "print(\"Total:\", merged_variables)"
   ]
  },
  {
   "cell_type": "code",
   "execution_count": null,
   "id": "4326786c",
   "metadata": {},
   "outputs": [
    {
     "name": "stdout",
     "output_type": "stream",
     "text": [
      "Mean Total: 58.0\n"
     ]
    }
   ],
   "source": [
    "global_mean = np.mean(merged_variables)\n",
    "print(\"Mean Total:\", global_mean)"
   ]
  },
  {
   "cell_type": "code",
   "execution_count": null,
   "id": "96546f1e",
   "metadata": {},
   "outputs": [
    {
     "name": "stdout",
     "output_type": "stream",
     "text": [
      "Statistics of Merged Variables: DescribeResult(nobs=np.int64(12), minmax=(np.int64(46), np.int64(76)), mean=np.float64(58.0), variance=np.float64(98.36363636363636), skewness=np.float64(0.4642673161125896), kurtosis=np.float64(-1.0286455219163528))\n"
     ]
    }
   ],
   "source": [
    "merged_stats = stats.describe(merged_variables)\n",
    "print(\"Statistics of Merged Variables:\", merged_stats)"
   ]
  },
  {
   "cell_type": "code",
   "execution_count": null,
   "id": "1b2efc45",
   "metadata": {},
   "outputs": [
    {
     "name": "stdout",
     "output_type": "stream",
     "text": [
      "Total Variation: 1082.0\n"
     ]
    }
   ],
   "source": [
    "total_variation = sum([(x - global_mean) ** 2 for x in merged_variables])\n",
    "print(\"Total Variation:\", total_variation)"
   ]
  },
  {
   "cell_type": "code",
   "execution_count": null,
   "id": "3f83eaa3",
   "metadata": {},
   "outputs": [
    {
     "name": "stdout",
     "output_type": "stream",
     "text": [
      "Wolfe Mean: 56.0\n",
      "White Mean: 70.0\n",
      "Korosa Mean: 48.0\n"
     ]
    }
   ],
   "source": [
    "wolfe_mean = np.mean(wolfe)\n",
    "white_mean = np.mean(white)\n",
    "korosa_mean = np.mean(korosa)\n",
    "print(\"Wolfe Mean:\", wolfe_mean)\n",
    "print(\"White Mean:\", white_mean)\n",
    "print(\"Korosa Mean:\", korosa_mean)"
   ]
  },
  {
   "cell_type": "code",
   "execution_count": null,
   "id": "6a084e5a",
   "metadata": {},
   "outputs": [
    {
     "name": "stdout",
     "output_type": "stream",
     "text": [
      "Treatment Variation: 992.0\n"
     ]
    }
   ],
   "source": [
    "wolfe_treat_variation = sum([(wolfe_mean - global_mean) ** 2 for x in wolfe])\n",
    "white_treat_variation = sum([(white_mean - global_mean) ** 2 for x in white])\n",
    "korosa_treat_variation = sum([(korosa_mean - global_mean) ** 2 for x in korosa])\n",
    "\n",
    "treat_variation = wolfe_treat_variation + white_treat_variation + korosa_treat_variation\n",
    "print(\"Treatment Variation:\", treat_variation)"
   ]
  },
  {
   "cell_type": "code",
   "execution_count": 16,
   "id": "74bf0b2e",
   "metadata": {},
   "outputs": [
    {
     "name": "stdout",
     "output_type": "stream",
     "text": [
      "Error Variation: 90.0\n"
     ]
    }
   ],
   "source": [
    "wolfe_error_variation = sum([(x - wolfe_mean) ** 2 for x in wolfe])\n",
    "white_error_variation = sum([(x - white_mean) ** 2 for x in white])\n",
    "korosa_error_variation = sum([(x - korosa_mean) ** 2 for x in korosa])\n",
    "error_variation = wolfe_error_variation + white_error_variation + korosa_error_variation\n",
    "print(\"Error Variation:\", error_variation)"
   ]
  },
  {
   "cell_type": "code",
   "execution_count": 17,
   "id": "184f6e39",
   "metadata": {},
   "outputs": [
    {
     "name": "stdout",
     "output_type": "stream",
     "text": [
      "Mean Square Treatment (MST): 496.0\n"
     ]
    }
   ],
   "source": [
    "mst = treat_variation / 2  # 2 is the number of treatments\n",
    "print(\"Mean Square Treatment (MST):\", mst)"
   ]
  },
  {
   "cell_type": "code",
   "execution_count": 18,
   "id": "fc5fe68b",
   "metadata": {},
   "outputs": [
    {
     "name": "stdout",
     "output_type": "stream",
     "text": [
      "Mean Square Error (MSE): 10.0\n"
     ]
    }
   ],
   "source": [
    "mse = error_variation / (len(merged_variables) - 3)  # 3 is the number of groups\n",
    "print(\"Mean Square Error (MSE):\", mse)\n"
   ]
  },
  {
   "cell_type": "code",
   "execution_count": null,
   "id": "0b30c63c",
   "metadata": {},
   "outputs": [
    {
     "name": "stdout",
     "output_type": "stream",
     "text": [
      "F-statistic: 49.6\n"
     ]
    }
   ],
   "source": [
    "f = mst / mse\n",
    "print(\"F-statistic:\", f)"
   ]
  }
 ],
 "metadata": {
  "kernelspec": {
   "display_name": "Python 3 (ipykernel)",
   "language": "python",
   "name": "python3"
  }
 },
 "nbformat": 4,
 "nbformat_minor": 5
}
