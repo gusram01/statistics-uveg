{
 "cells": [
  {
   "cell_type": "code",
   "execution_count": 7,
   "id": "351dc2d5",
   "metadata": {},
   "outputs": [],
   "source": [
    "import numpy as np\n",
    "import matplotlib.pyplot as plt\n",
    "import pandas as pd\n",
    "\n"
   ]
  },
  {
   "cell_type": "code",
   "execution_count": 4,
   "id": "5037d98d",
   "metadata": {},
   "outputs": [],
   "source": [
    "invoices = [\n",
    "    45, 49, 62, 40, 43, 61,\n",
    "    48, 53, 67, 63, 78, 64,\n",
    "    48, 54, 51, 56, 63, 69,\n",
    "    58, 51, 58, 59, 56, 57,\n",
    "    38, 76\n",
    "]"
   ]
  },
  {
   "cell_type": "code",
   "execution_count": null,
   "id": "96b5e195",
   "metadata": {},
   "outputs": [],
   "source": [
    "max = np.max(invoices)\n",
    "min = np.min(invoices)\n",
    "mean = np.mean(invoices)\n",
    "median = np.median(invoices)\n"
   ]
  },
  {
   "cell_type": "code",
   "execution_count": 8,
   "id": "a4d9168a",
   "metadata": {},
   "outputs": [],
   "source": [
    "serie = pd.Series(invoices)\n",
    "std_dev = serie.std()"
   ]
  },
  {
   "cell_type": "code",
   "execution_count": 9,
   "id": "09c722ae",
   "metadata": {},
   "outputs": [
    {
     "name": "stdout",
     "output_type": "stream",
     "text": [
      "Max: 78\n",
      "Min: 38\n",
      "Mean: 56.42307692307692\n",
      "Median: 56.5\n",
      "Standard Deviation: 10.040609849697685\n"
     ]
    }
   ],
   "source": [
    "print(f\"Max: {max}\")\n",
    "print(f\"Min: {min}\")\n",
    "print(f\"Mean: {mean}\")\n",
    "print(f\"Median: {median}\")\n",
    "print(f\"Standard Deviation: {std_dev}\")"
   ]
  },
  {
   "cell_type": "code",
   "execution_count": 10,
   "id": "286f4d47",
   "metadata": {},
   "outputs": [
    {
     "name": "stdout",
     "output_type": "stream",
     "text": [
      "Max: 78\n",
      "Min: 38\n",
      "Mean: 56.42\n",
      "Median: 56.50\n",
      "Standard Deviation: 10.04\n"
     ]
    }
   ],
   "source": [
    "print(f\"Max: {round(max, 2)}\")\n",
    "print(f\"Min: {round(min, 2)}\")\n",
    "print(f\"Mean: {mean:.2f}\")\n",
    "print(f\"Median: {median:.2f}\")\n",
    "print(f\"Standard Deviation: {std_dev:.2f}\")"
   ]
  },
  {
   "cell_type": "code",
   "execution_count": null,
   "id": "d4e9e6f4",
   "metadata": {},
   "outputs": [],
   "source": []
  }
 ],
 "metadata": {
  "kernelspec": {
   "display_name": "Python 3 (ipykernel)",
   "language": "python",
   "name": "python3"
  },
  "language_info": {
   "codemirror_mode": {
    "name": "ipython",
    "version": 3
   },
   "file_extension": ".py",
   "mimetype": "text/x-python",
   "name": "python",
   "nbconvert_exporter": "python",
   "pygments_lexer": "ipython3",
   "version": "3.12.11"
  }
 },
 "nbformat": 4,
 "nbformat_minor": 5
}
