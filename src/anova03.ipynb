{
 "cells": [
  {
   "cell_type": "code",
   "execution_count": 1,
   "id": "41d6f5d8",
   "metadata": {},
   "outputs": [],
   "source": [
    "import numpy as np\n"
   ]
  },
  {
   "cell_type": "code",
   "execution_count": 2,
   "id": "ba0d67b9",
   "metadata": {},
   "outputs": [],
   "source": [
    "# Using NumPy arrays (recommended for numerical operations)\n",
    "maq1_np = np.array([351, 353, 350, 350, 350, 352, 353, 355, 351, 356])\n",
    "maq2_np = np.array([354, 350, 357, 350, 355, 358, 355, 351, 351, 353])\n",
    "maq3_np = np.array([357, 358, 358, 355, 355, 353, 351, 358, 355, 358])"
   ]
  },
  {
   "cell_type": "code",
   "execution_count": 3,
   "id": "9c08f6df",
   "metadata": {},
   "outputs": [
    {
     "name": "stdout",
     "output_type": "stream",
     "text": [
      "MAQ1 Mean: 352.1\n",
      "MAQ2 Mean: 353.4\n",
      "MAQ3 Mean: 355.8\n"
     ]
    }
   ],
   "source": [
    "maq1_mean = np.mean(maq1_np)\n",
    "maq2_mean = np.mean(maq2_np)\n",
    "maq3_mean = np.mean(maq3_np)\n",
    "print(\"MAQ1 Mean:\", maq1_mean)\n",
    "print(\"MAQ2 Mean:\", maq2_mean)\n",
    "print(\"MAQ3 Mean:\", maq3_mean)"
   ]
  },
  {
   "cell_type": "code",
   "execution_count": 10,
   "id": "95d8c267",
   "metadata": {},
   "outputs": [
    {
     "name": "stdout",
     "output_type": "stream",
     "text": [
      "Error Variation: 168.9\n"
     ]
    }
   ],
   "source": [
    "maq1_error_variation = sum([(x - maq1_mean)**2 for x in maq1_np])\n",
    "maq2_error_variation = sum([(x - maq2_mean)**2 for x in maq2_np])\n",
    "maq3_error_variation = sum([(x - maq3_mean)**2 for x in maq3_np])\n",
    "ssw = maq1_error_variation + maq2_error_variation + maq3_error_variation\n",
    "print(\"Error Variation:\", ssw)"
   ]
  },
  {
   "cell_type": "code",
   "execution_count": 12,
   "id": "90664997",
   "metadata": {},
   "outputs": [
    {
     "name": "stdout",
     "output_type": "stream",
     "text": [
      "Global Mean: 353.76666666666665\n"
     ]
    }
   ],
   "source": [
    "merged_variables = maq1_np.tolist() + maq2_np.tolist() + maq3_np.tolist()\n",
    "global_mean = np.mean(merged_variables)\n",
    "print(\"Global Mean:\", global_mean)"
   ]
  },
  {
   "cell_type": "code",
   "execution_count": 11,
   "id": "d7c89544",
   "metadata": {},
   "outputs": [
    {
     "name": "stdout",
     "output_type": "stream",
     "text": [
      "Total Variation (SST): 239.36666666666656\n"
     ]
    }
   ],
   "source": [
    "sst = sum([(x-global_mean)**2 for x in merged_variables])\n",
    "print(\"Total Variation (SST):\", sst)\n"
   ]
  },
  {
   "cell_type": "code",
   "execution_count": 13,
   "id": "683581c5",
   "metadata": {},
   "outputs": [
    {
     "name": "stdout",
     "output_type": "stream",
     "text": [
      "Between Group Variation (SSB): 70.46666666666655\n"
     ]
    }
   ],
   "source": [
    "ssb = sst - ssw\n",
    "print(\"Between Group Variation (SSB):\", ssb)"
   ]
  },
  {
   "cell_type": "code",
   "execution_count": null,
   "id": "4bf46d46",
   "metadata": {},
   "outputs": [],
   "source": []
  },
  {
   "cell_type": "code",
   "execution_count": null,
   "id": "b6126d23",
   "metadata": {},
   "outputs": [],
   "source": []
  }
 ],
 "metadata": {
  "kernelspec": {
   "display_name": "Python 3 (ipykernel)",
   "language": "python",
   "name": "python3"
  },
  "language_info": {
   "codemirror_mode": {
    "name": "ipython",
    "version": 3
   },
   "file_extension": ".py",
   "mimetype": "text/x-python",
   "name": "python",
   "nbconvert_exporter": "python",
   "pygments_lexer": "ipython3",
   "version": "3.12.11"
  }
 },
 "nbformat": 4,
 "nbformat_minor": 5
}
