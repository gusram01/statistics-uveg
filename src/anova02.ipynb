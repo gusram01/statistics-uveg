{
 "cells": [
  {
   "cell_type": "code",
   "execution_count": 1,
   "id": "3855bd86",
   "metadata": {},
   "outputs": [],
   "source": [
    "import numpy as np"
   ]
  },
  {
   "cell_type": "code",
   "execution_count": 2,
   "id": "24947929",
   "metadata": {},
   "outputs": [],
   "source": [
    "northern = [94, 90, 85, 80]\n",
    "wta = [75, 68, 77, 83, 88]\n",
    "pocono = [70, 73, 76, 78, 80, 68, 65]\n",
    "branson = [68, 70, 72, 65, 74, 65]"
   ]
  },
  {
   "cell_type": "code",
   "execution_count": 6,
   "id": "229ad279",
   "metadata": {},
   "outputs": [
    {
     "name": "stdout",
     "output_type": "stream",
     "text": [
      "Global Mean: 75.63636363636364\n"
     ]
    }
   ],
   "source": [
    "merged_variables = northern + wta + pocono + branson\n",
    "global_mean = np.mean(merged_variables)\n",
    "\n",
    "print(\"Global Mean:\", global_mean)"
   ]
  },
  {
   "cell_type": "code",
   "execution_count": 4,
   "id": "44bffbd6",
   "metadata": {},
   "outputs": [
    {
     "name": "stdout",
     "output_type": "stream",
     "text": [
      "Numerator Degrees of Freedom: 3\n",
      "Denominator Degrees of Freedom: 18\n"
     ]
    }
   ],
   "source": [
    "numerator_df = 4 -1 # 4 is the number of treatments\n",
    "denominator_df = len(merged_variables) - 4 # 4 is the number of treatments\n",
    "print(\"Numerator Degrees of Freedom:\", numerator_df)\n",
    "print(\"Denominator Degrees of Freedom:\", denominator_df)"
   ]
  },
  {
   "cell_type": "code",
   "execution_count": 5,
   "id": "975cb151",
   "metadata": {},
   "outputs": [
    {
     "name": "stdout",
     "output_type": "stream",
     "text": [
      "Total Variation (SST): 1485.0909090909092\n"
     ]
    }
   ],
   "source": [
    "sst = sum([(x - global_mean)**2 for x in merged_variables])\n",
    "print(\"Total Variation (SST):\", sst)"
   ]
  },
  {
   "cell_type": "code",
   "execution_count": 7,
   "id": "62e538b8",
   "metadata": {},
   "outputs": [
    {
     "name": "stdout",
     "output_type": "stream",
     "text": [
      "Northern Mean: 87.25\n",
      "WTA Mean: 78.2\n",
      "Pocono Mean: 72.85714285714286\n",
      "Branson Mean: 69.0\n"
     ]
    }
   ],
   "source": [
    "northern_mean = np.mean(northern)\n",
    "wta_mean = np.mean(wta)\n",
    "pocono_mean = np.mean(pocono)\n",
    "branson_mean = np.mean(branson)\n",
    "print(\"Northern Mean:\", northern_mean)\n",
    "print(\"WTA Mean:\", wta_mean)\n",
    "print(\"Pocono Mean:\", pocono_mean)\n",
    "print(\"Branson Mean:\", branson_mean)"
   ]
  },
  {
   "cell_type": "code",
   "execution_count": 8,
   "id": "8e244a87",
   "metadata": {},
   "outputs": [
    {
     "name": "stdout",
     "output_type": "stream",
     "text": [
      "Error Variation (SSE): 594.4071428571428\n"
     ]
    }
   ],
   "source": [
    "northern_treat_variation = sum([(x - northern_mean)**2 for x in northern])\n",
    "wta_treat_variation = sum([(x - wta_mean)**2 for x in wta])\n",
    "pocono_treat_variation = sum([(x - pocono_mean)**2 for x in pocono])\n",
    "branson_treat_variation = sum([(x - branson_mean)**2 for x in branson])\n",
    "\n",
    "sse =northern_treat_variation + wta_treat_variation + pocono_treat_variation + branson_treat_variation\n",
    "print(\"Error Variation (SSE):\", sse)"
   ]
  },
  {
   "cell_type": "code",
   "execution_count": 9,
   "id": "2bfeb9db",
   "metadata": {},
   "outputs": [
    {
     "name": "stdout",
     "output_type": "stream",
     "text": [
      "Treatment Variation (SST): 890.6837662337664\n"
     ]
    }
   ],
   "source": [
    "sst = sst - sse\n",
    "print(\"Treatment Variation (SST):\", sst)"
   ]
  },
  {
   "cell_type": "code",
   "execution_count": 10,
   "id": "d23ad681",
   "metadata": {},
   "outputs": [
    {
     "name": "stdout",
     "output_type": "stream",
     "text": [
      "F-statistic: 8.99064330168552\n"
     ]
    }
   ],
   "source": [
    "mst = sst / numerator_df\n",
    "mse = sse / denominator_df\n",
    "\n",
    "f = mst / mse\n",
    "print(\"F-statistic:\", f)"
   ]
  },
  {
   "cell_type": "code",
   "execution_count": null,
   "id": "80cce58d",
   "metadata": {},
   "outputs": [],
   "source": []
  }
 ],
 "metadata": {
  "kernelspec": {
   "display_name": "Python 3 (ipykernel)",
   "language": "python",
   "name": "python3"
  },
  "language_info": {
   "codemirror_mode": {
    "name": "ipython",
    "version": 3
   },
   "file_extension": ".py",
   "mimetype": "text/x-python",
   "name": "python",
   "nbconvert_exporter": "python",
   "pygments_lexer": "ipython3",
   "version": "3.12.11"
  }
 },
 "nbformat": 4,
 "nbformat_minor": 5
}
